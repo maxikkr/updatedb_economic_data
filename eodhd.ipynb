{
 "cells": [
  {
   "cell_type": "code",
   "execution_count": 1,
   "id": "725505ac",
   "metadata": {},
   "outputs": [
    {
     "name": "stdout",
     "output_type": "stream",
     "text": [
      "Defaulting to user installation because normal site-packages is not writeable\n",
      "Collecting eodhd\n",
      "  Downloading eodhd-1.0.30-py3-none-any.whl.metadata (1.6 kB)\n",
      "Collecting websockets>=11.0.3 (from eodhd)\n",
      "  Downloading websockets-12.0-cp311-cp311-win_amd64.whl.metadata (6.8 kB)\n",
      "Collecting websocket-client>=1.6.3 (from eodhd)\n",
      "  Downloading websocket_client-1.8.0-py3-none-any.whl.metadata (8.0 kB)\n",
      "Requirement already satisfied: requests>=2.31.0 in c:\\programdata\\anaconda3\\lib\\site-packages (from eodhd) (2.31.0)\n",
      "Collecting rich>=13.5.2 (from eodhd)\n",
      "  Downloading rich-13.7.1-py3-none-any.whl.metadata (18 kB)\n",
      "Requirement already satisfied: pandas>=2.1.0 in c:\\programdata\\anaconda3\\lib\\site-packages (from eodhd) (2.1.4)\n",
      "Requirement already satisfied: numpy>=1.25.2 in c:\\programdata\\anaconda3\\lib\\site-packages (from eodhd) (1.26.4)\n",
      "Requirement already satisfied: matplotlib>=3.7.2 in c:\\programdata\\anaconda3\\lib\\site-packages (from eodhd) (3.8.0)\n",
      "Requirement already satisfied: contourpy>=1.0.1 in c:\\programdata\\anaconda3\\lib\\site-packages (from matplotlib>=3.7.2->eodhd) (1.2.0)\n",
      "Requirement already satisfied: cycler>=0.10 in c:\\programdata\\anaconda3\\lib\\site-packages (from matplotlib>=3.7.2->eodhd) (0.11.0)\n",
      "Requirement already satisfied: fonttools>=4.22.0 in c:\\programdata\\anaconda3\\lib\\site-packages (from matplotlib>=3.7.2->eodhd) (4.25.0)\n",
      "Requirement already satisfied: kiwisolver>=1.0.1 in c:\\programdata\\anaconda3\\lib\\site-packages (from matplotlib>=3.7.2->eodhd) (1.4.4)\n",
      "Requirement already satisfied: packaging>=20.0 in c:\\programdata\\anaconda3\\lib\\site-packages (from matplotlib>=3.7.2->eodhd) (23.1)\n",
      "Requirement already satisfied: pillow>=6.2.0 in c:\\programdata\\anaconda3\\lib\\site-packages (from matplotlib>=3.7.2->eodhd) (10.2.0)\n",
      "Requirement already satisfied: pyparsing>=2.3.1 in c:\\programdata\\anaconda3\\lib\\site-packages (from matplotlib>=3.7.2->eodhd) (3.0.9)\n",
      "Requirement already satisfied: python-dateutil>=2.7 in c:\\programdata\\anaconda3\\lib\\site-packages (from matplotlib>=3.7.2->eodhd) (2.8.2)\n",
      "Requirement already satisfied: pytz>=2020.1 in c:\\programdata\\anaconda3\\lib\\site-packages (from pandas>=2.1.0->eodhd) (2023.3.post1)\n",
      "Requirement already satisfied: tzdata>=2022.1 in c:\\programdata\\anaconda3\\lib\\site-packages (from pandas>=2.1.0->eodhd) (2023.3)\n",
      "Requirement already satisfied: charset-normalizer<4,>=2 in c:\\programdata\\anaconda3\\lib\\site-packages (from requests>=2.31.0->eodhd) (2.0.4)\n",
      "Requirement already satisfied: idna<4,>=2.5 in c:\\programdata\\anaconda3\\lib\\site-packages (from requests>=2.31.0->eodhd) (3.4)\n",
      "Requirement already satisfied: urllib3<3,>=1.21.1 in c:\\programdata\\anaconda3\\lib\\site-packages (from requests>=2.31.0->eodhd) (2.0.7)\n",
      "Requirement already satisfied: certifi>=2017.4.17 in c:\\programdata\\anaconda3\\lib\\site-packages (from requests>=2.31.0->eodhd) (2024.2.2)\n",
      "Requirement already satisfied: markdown-it-py>=2.2.0 in c:\\programdata\\anaconda3\\lib\\site-packages (from rich>=13.5.2->eodhd) (2.2.0)\n",
      "Requirement already satisfied: pygments<3.0.0,>=2.13.0 in c:\\programdata\\anaconda3\\lib\\site-packages (from rich>=13.5.2->eodhd) (2.15.1)\n",
      "Requirement already satisfied: mdurl~=0.1 in c:\\programdata\\anaconda3\\lib\\site-packages (from markdown-it-py>=2.2.0->rich>=13.5.2->eodhd) (0.1.0)\n",
      "Requirement already satisfied: six>=1.5 in c:\\programdata\\anaconda3\\lib\\site-packages (from python-dateutil>=2.7->matplotlib>=3.7.2->eodhd) (1.16.0)\n",
      "Downloading eodhd-1.0.30-py3-none-any.whl (29 kB)\n",
      "Downloading rich-13.7.1-py3-none-any.whl (240 kB)\n",
      "   ---------------------------------------- 0.0/240.7 kB ? eta -:--:--\n",
      "   --------------------------------------- 240.7/240.7 kB 15.4 MB/s eta 0:00:00\n",
      "Downloading websocket_client-1.8.0-py3-none-any.whl (58 kB)\n",
      "   ---------------------------------------- 0.0/58.8 kB ? eta -:--:--\n",
      "   ---------------------------------------- 58.8/58.8 kB ? eta 0:00:00\n",
      "Downloading websockets-12.0-cp311-cp311-win_amd64.whl (124 kB)\n",
      "   ---------------------------------------- 0.0/125.0 kB ? eta -:--:--\n",
      "   ---------------------------------------- 125.0/125.0 kB 7.2 MB/s eta 0:00:00\n",
      "Installing collected packages: websockets, websocket-client, rich, eodhd\n",
      "Successfully installed eodhd-1.0.30 rich-13.7.1 websocket-client-1.8.0 websockets-12.0\n",
      "Note: you may need to restart the kernel to use updated packages.\n"
     ]
    },
    {
     "name": "stderr",
     "output_type": "stream",
     "text": [
      "  WARNING: The script wsdump.exe is installed in 'C:\\Users\\kramm\\AppData\\Roaming\\Python\\Python311\\Scripts' which is not on PATH.\n",
      "  Consider adding this directory to PATH or, if you prefer to suppress this warning, use --no-warn-script-location.\n",
      "  WARNING: The script whittlem.exe is installed in 'C:\\Users\\kramm\\AppData\\Roaming\\Python\\Python311\\Scripts' which is not on PATH.\n",
      "  Consider adding this directory to PATH or, if you prefer to suppress this warning, use --no-warn-script-location.\n"
     ]
    }
   ],
   "source": [
    "pip install eodhd"
   ]
  },
  {
   "cell_type": "code",
   "execution_count": 4,
   "id": "f06567f0",
   "metadata": {},
   "outputs": [],
   "source": [
    "from eodhd import APIClient\n",
    "import pandas as pd"
   ]
  },
  {
   "cell_type": "code",
   "execution_count": 7,
   "id": "8e4d3c49",
   "metadata": {},
   "outputs": [],
   "source": [
    "api = APIClient(\"65a8ecf3581666.60822762\")\n",
    "api = APIClient(\"demo\")"
   ]
  },
  {
   "cell_type": "code",
   "execution_count": 9,
   "id": "00c99166",
   "metadata": {},
   "outputs": [
    {
     "data": {
      "text/html": [
       "<pre style=\"white-space:pre;overflow-x:auto;line-height:normal;font-family:Menlo,'DejaVu Sans Mono',consolas,'Courier New',monospace\"><span style=\"color: #7fbfbf; text-decoration-color: #7fbfbf\">[12:54:33] </span>Expecting value: line <span style=\"color: #008080; text-decoration-color: #008080; font-weight: bold\">1</span> column <span style=\"color: #008080; text-decoration-color: #008080; font-weight: bold\">1</span> <span style=\"font-weight: bold\">(</span>char <span style=\"color: #008080; text-decoration-color: #008080; font-weight: bold\">0</span><span style=\"font-weight: bold\">)</span>                                                  <a href=\"file://C:\\Users\\kramm\\AppData\\Roaming\\Python\\Python311\\site-packages\\eodhd\\APIs\\BaseAPI.py\" target=\"_blank\"><span style=\"color: #7f7f7f; text-decoration-color: #7f7f7f\">BaseAPI.py</span></a><span style=\"color: #7f7f7f; text-decoration-color: #7f7f7f\">:</span><a href=\"file://C:\\Users\\kramm\\AppData\\Roaming\\Python\\Python311\\site-packages\\eodhd\\APIs\\BaseAPI.py#39\" target=\"_blank\"><span style=\"color: #7f7f7f; text-decoration-color: #7f7f7f\">39</span></a>\n",
       "</pre>\n"
      ],
      "text/plain": [
       "\u001b[2;36m[12:54:33]\u001b[0m\u001b[2;36m \u001b[0mExpecting value: line \u001b[1;36m1\u001b[0m column \u001b[1;36m1\u001b[0m \u001b[1m(\u001b[0mchar \u001b[1;36m0\u001b[0m\u001b[1m)\u001b[0m                                                  \u001b]8;id=812467;file://C:\\Users\\kramm\\AppData\\Roaming\\Python\\Python311\\site-packages\\eodhd\\APIs\\BaseAPI.py\u001b\\\u001b[2mBaseAPI.py\u001b[0m\u001b]8;;\u001b\\\u001b[2m:\u001b[0m\u001b]8;id=29923;file://C:\\Users\\kramm\\AppData\\Roaming\\Python\\Python311\\site-packages\\eodhd\\APIs\\BaseAPI.py#39\u001b\\\u001b[2m39\u001b[0m\u001b]8;;\u001b\\\n"
      ]
     },
     "metadata": {},
     "output_type": "display_data"
    },
    {
     "data": {
      "text/html": [
       "<pre style=\"white-space:pre;overflow-x:auto;line-height:normal;font-family:Menlo,'DejaVu Sans Mono',consolas,'Courier New',monospace\"><span style=\"color: #7fbfbf; text-decoration-color: #7fbfbf\">           </span><span style=\"color: #008080; text-decoration-color: #008080; font-weight: bold\">403</span> Client Error: Forbidden for url:                                                       <a href=\"file://C:\\Users\\kramm\\AppData\\Roaming\\Python\\Python311\\site-packages\\eodhd\\APIs\\BaseAPI.py\" target=\"_blank\"><span style=\"color: #7f7f7f; text-decoration-color: #7f7f7f\">BaseAPI.py</span></a><span style=\"color: #7f7f7f; text-decoration-color: #7f7f7f\">:</span><a href=\"file://C:\\Users\\kramm\\AppData\\Roaming\\Python\\Python311\\site-packages\\eodhd\\APIs\\BaseAPI.py#52\" target=\"_blank\"><span style=\"color: #7f7f7f; text-decoration-color: #7f7f7f\">52</span></a>\n",
       "<span style=\"color: #7fbfbf; text-decoration-color: #7fbfbf\">           </span><span style=\"color: #0000ff; text-decoration-color: #0000ff; text-decoration: underline\">https://eodhd.com/api/macro-indicator/USA?api_token=demo&amp;fmt=json&amp;indicator=real_interest_</span> <span style=\"color: #7f7f7f; text-decoration-color: #7f7f7f\">             </span>\n",
       "<span style=\"color: #7fbfbf; text-decoration-color: #7fbfbf\">           </span><span style=\"color: #0000ff; text-decoration-color: #0000ff; text-decoration: underline\">rate</span>                                                                                       <span style=\"color: #7f7f7f; text-decoration-color: #7f7f7f\">             </span>\n",
       "</pre>\n"
      ],
      "text/plain": [
       "\u001b[2;36m          \u001b[0m\u001b[2;36m \u001b[0m\u001b[1;36m403\u001b[0m Client Error: Forbidden for url:                                                       \u001b]8;id=593319;file://C:\\Users\\kramm\\AppData\\Roaming\\Python\\Python311\\site-packages\\eodhd\\APIs\\BaseAPI.py\u001b\\\u001b[2mBaseAPI.py\u001b[0m\u001b]8;;\u001b\\\u001b[2m:\u001b[0m\u001b]8;id=352303;file://C:\\Users\\kramm\\AppData\\Roaming\\Python\\Python311\\site-packages\\eodhd\\APIs\\BaseAPI.py#52\u001b\\\u001b[2m52\u001b[0m\u001b]8;;\u001b\\\n",
       "\u001b[2;36m           \u001b[0m\u001b[4;94mhttps://eodhd.com/api/macro-indicator/USA?\u001b[0m\u001b[4;94mapi_token\u001b[0m\u001b[4;94m=\u001b[0m\u001b[4;94mdemo\u001b[0m\u001b[4;94m&\u001b[0m\u001b[4;94mfmt\u001b[0m\u001b[4;94m=\u001b[0m\u001b[4;94mjson\u001b[0m\u001b[4;94m&\u001b[0m\u001b[4;94mindicator\u001b[0m\u001b[4;94m=\u001b[0m\u001b[4;94mreal_interest_\u001b[0m \u001b[2m             \u001b[0m\n",
       "\u001b[2;36m           \u001b[0m\u001b[4;94mrate\u001b[0m                                                                                       \u001b[2m             \u001b[0m\n"
      ]
     },
     "metadata": {},
     "output_type": "display_data"
    }
   ],
   "source": [
    "indicator_extended = api.get_macro_indicators_data (country = \"USA\", indicator = \"real_interest_rate\")\n"
   ]
  }
 ],
 "metadata": {
  "kernelspec": {
   "display_name": "Python 3 (ipykernel)",
   "language": "python",
   "name": "python3"
  },
  "language_info": {
   "codemirror_mode": {
    "name": "ipython",
    "version": 3
   },
   "file_extension": ".py",
   "mimetype": "text/x-python",
   "name": "python",
   "nbconvert_exporter": "python",
   "pygments_lexer": "ipython3",
   "version": "3.11.7"
  }
 },
 "nbformat": 4,
 "nbformat_minor": 5
}
